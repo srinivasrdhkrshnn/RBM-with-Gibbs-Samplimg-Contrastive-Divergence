{
  "nbformat": 4,
  "nbformat_minor": 0,
  "metadata": {
    "colab": {
      "name": "Contrastive Divergence Assignment 4.ipynb",
      "provenance": [],
      "collapsed_sections": []
    },
    "kernelspec": {
      "display_name": "Python 3",
      "name": "python3"
    },
    "language_info": {
      "name": "python"
    },
    "widgets": {
      "application/vnd.jupyter.widget-state+json": {
        "4afa53d9c61c4bf7ba83938153a4782b": {
          "model_module": "@jupyter-widgets/controls",
          "model_name": "VBoxModel",
          "state": {
            "_view_name": "VBoxView",
            "_dom_classes": [],
            "_model_name": "VBoxModel",
            "_view_module": "@jupyter-widgets/controls",
            "_model_module_version": "1.5.0",
            "_view_count": null,
            "_view_module_version": "1.5.0",
            "box_style": "",
            "layout": "IPY_MODEL_405bbd3e926747bdb693c2628e81bd61",
            "_model_module": "@jupyter-widgets/controls",
            "children": [
              "IPY_MODEL_24388d6805a04a788a009f57a76396a6",
              "IPY_MODEL_80a87c136588461aa3db523bef84fdff"
            ]
          }
        },
        "405bbd3e926747bdb693c2628e81bd61": {
          "model_module": "@jupyter-widgets/base",
          "model_name": "LayoutModel",
          "state": {
            "_view_name": "LayoutView",
            "grid_template_rows": null,
            "right": null,
            "justify_content": null,
            "_view_module": "@jupyter-widgets/base",
            "overflow": null,
            "_model_module_version": "1.2.0",
            "_view_count": null,
            "flex_flow": null,
            "width": null,
            "min_width": null,
            "border": null,
            "align_items": null,
            "bottom": null,
            "_model_module": "@jupyter-widgets/base",
            "top": null,
            "grid_column": null,
            "overflow_y": null,
            "overflow_x": null,
            "grid_auto_flow": null,
            "grid_area": null,
            "grid_template_columns": null,
            "flex": null,
            "_model_name": "LayoutModel",
            "justify_items": null,
            "grid_row": null,
            "max_height": null,
            "align_content": null,
            "visibility": null,
            "align_self": null,
            "height": null,
            "min_height": null,
            "padding": null,
            "grid_auto_rows": null,
            "grid_gap": null,
            "max_width": null,
            "order": null,
            "_view_module_version": "1.2.0",
            "grid_template_areas": null,
            "object_position": null,
            "object_fit": null,
            "grid_auto_columns": null,
            "margin": null,
            "display": null,
            "left": null
          }
        },
        "24388d6805a04a788a009f57a76396a6": {
          "model_module": "@jupyter-widgets/controls",
          "model_name": "LabelModel",
          "state": {
            "_view_name": "LabelView",
            "style": "IPY_MODEL_e07c94ebac18439b90cac1570aaa9996",
            "_dom_classes": [],
            "description": "",
            "_model_name": "LabelModel",
            "placeholder": "​",
            "_view_module": "@jupyter-widgets/controls",
            "_model_module_version": "1.5.0",
            "value": " 0.13MB of 0.13MB uploaded (0.00MB deduped)\r",
            "_view_count": null,
            "_view_module_version": "1.5.0",
            "description_tooltip": null,
            "_model_module": "@jupyter-widgets/controls",
            "layout": "IPY_MODEL_18170b5680c34c258a0f6af71659c422"
          }
        },
        "80a87c136588461aa3db523bef84fdff": {
          "model_module": "@jupyter-widgets/controls",
          "model_name": "FloatProgressModel",
          "state": {
            "_view_name": "ProgressView",
            "style": "IPY_MODEL_27f42ad1d7bb48868dbcaddc10fa772d",
            "_dom_classes": [],
            "description": "",
            "_model_name": "FloatProgressModel",
            "bar_style": "",
            "max": 1,
            "_view_module": "@jupyter-widgets/controls",
            "_model_module_version": "1.5.0",
            "value": 1,
            "_view_count": null,
            "_view_module_version": "1.5.0",
            "orientation": "horizontal",
            "min": 0,
            "description_tooltip": null,
            "_model_module": "@jupyter-widgets/controls",
            "layout": "IPY_MODEL_c893a322148845f3a76a09746c366ae7"
          }
        },
        "e07c94ebac18439b90cac1570aaa9996": {
          "model_module": "@jupyter-widgets/controls",
          "model_name": "DescriptionStyleModel",
          "state": {
            "_view_name": "StyleView",
            "_model_name": "DescriptionStyleModel",
            "description_width": "",
            "_view_module": "@jupyter-widgets/base",
            "_model_module_version": "1.5.0",
            "_view_count": null,
            "_view_module_version": "1.2.0",
            "_model_module": "@jupyter-widgets/controls"
          }
        },
        "18170b5680c34c258a0f6af71659c422": {
          "model_module": "@jupyter-widgets/base",
          "model_name": "LayoutModel",
          "state": {
            "_view_name": "LayoutView",
            "grid_template_rows": null,
            "right": null,
            "justify_content": null,
            "_view_module": "@jupyter-widgets/base",
            "overflow": null,
            "_model_module_version": "1.2.0",
            "_view_count": null,
            "flex_flow": null,
            "width": null,
            "min_width": null,
            "border": null,
            "align_items": null,
            "bottom": null,
            "_model_module": "@jupyter-widgets/base",
            "top": null,
            "grid_column": null,
            "overflow_y": null,
            "overflow_x": null,
            "grid_auto_flow": null,
            "grid_area": null,
            "grid_template_columns": null,
            "flex": null,
            "_model_name": "LayoutModel",
            "justify_items": null,
            "grid_row": null,
            "max_height": null,
            "align_content": null,
            "visibility": null,
            "align_self": null,
            "height": null,
            "min_height": null,
            "padding": null,
            "grid_auto_rows": null,
            "grid_gap": null,
            "max_width": null,
            "order": null,
            "_view_module_version": "1.2.0",
            "grid_template_areas": null,
            "object_position": null,
            "object_fit": null,
            "grid_auto_columns": null,
            "margin": null,
            "display": null,
            "left": null
          }
        },
        "27f42ad1d7bb48868dbcaddc10fa772d": {
          "model_module": "@jupyter-widgets/controls",
          "model_name": "ProgressStyleModel",
          "state": {
            "_view_name": "StyleView",
            "_model_name": "ProgressStyleModel",
            "description_width": "",
            "_view_module": "@jupyter-widgets/base",
            "_model_module_version": "1.5.0",
            "_view_count": null,
            "_view_module_version": "1.2.0",
            "bar_color": null,
            "_model_module": "@jupyter-widgets/controls"
          }
        },
        "c893a322148845f3a76a09746c366ae7": {
          "model_module": "@jupyter-widgets/base",
          "model_name": "LayoutModel",
          "state": {
            "_view_name": "LayoutView",
            "grid_template_rows": null,
            "right": null,
            "justify_content": null,
            "_view_module": "@jupyter-widgets/base",
            "overflow": null,
            "_model_module_version": "1.2.0",
            "_view_count": null,
            "flex_flow": null,
            "width": null,
            "min_width": null,
            "border": null,
            "align_items": null,
            "bottom": null,
            "_model_module": "@jupyter-widgets/base",
            "top": null,
            "grid_column": null,
            "overflow_y": null,
            "overflow_x": null,
            "grid_auto_flow": null,
            "grid_area": null,
            "grid_template_columns": null,
            "flex": null,
            "_model_name": "LayoutModel",
            "justify_items": null,
            "grid_row": null,
            "max_height": null,
            "align_content": null,
            "visibility": null,
            "align_self": null,
            "height": null,
            "min_height": null,
            "padding": null,
            "grid_auto_rows": null,
            "grid_gap": null,
            "max_width": null,
            "order": null,
            "_view_module_version": "1.2.0",
            "grid_template_areas": null,
            "object_position": null,
            "object_fit": null,
            "grid_auto_columns": null,
            "margin": null,
            "display": null,
            "left": null
          }
        }
      }
    }
  },
  "cells": [
    {
      "cell_type": "code",
      "metadata": {
        "id": "0-XD0C0fT6LH",
        "colab": {
          "base_uri": "https://localhost:8080/"
        },
        "outputId": "cd0d6de5-7443-4b78-d89e-26337b7741bf"
      },
      "source": [
        "!pip install wandb"
      ],
      "execution_count": null,
      "outputs": [
        {
          "output_type": "stream",
          "text": [
            "Collecting wandb\n",
            "\u001b[?25l  Downloading https://files.pythonhosted.org/packages/98/5f/45439b4767334b868e1c8c35b1b0ba3747d8c21be77b79f09eed7aa3c72b/wandb-0.10.30-py2.py3-none-any.whl (1.8MB)\n",
            "\r\u001b[K     |▏                               | 10kB 18.4MB/s eta 0:00:01\r\u001b[K     |▍                               | 20kB 18.4MB/s eta 0:00:01\r\u001b[K     |▌                               | 30kB 13.5MB/s eta 0:00:01\r\u001b[K     |▊                               | 40kB 14.0MB/s eta 0:00:01\r\u001b[K     |█                               | 51kB 8.0MB/s eta 0:00:01\r\u001b[K     |█                               | 61kB 9.2MB/s eta 0:00:01\r\u001b[K     |█▎                              | 71kB 8.7MB/s eta 0:00:01\r\u001b[K     |█▌                              | 81kB 9.5MB/s eta 0:00:01\r\u001b[K     |█▋                              | 92kB 9.3MB/s eta 0:00:01\r\u001b[K     |█▉                              | 102kB 7.7MB/s eta 0:00:01\r\u001b[K     |██                              | 112kB 7.7MB/s eta 0:00:01\r\u001b[K     |██▏                             | 122kB 7.7MB/s eta 0:00:01\r\u001b[K     |██▍                             | 133kB 7.7MB/s eta 0:00:01\r\u001b[K     |██▌                             | 143kB 7.7MB/s eta 0:00:01\r\u001b[K     |██▊                             | 153kB 7.7MB/s eta 0:00:01\r\u001b[K     |███                             | 163kB 7.7MB/s eta 0:00:01\r\u001b[K     |███                             | 174kB 7.7MB/s eta 0:00:01\r\u001b[K     |███▎                            | 184kB 7.7MB/s eta 0:00:01\r\u001b[K     |███▍                            | 194kB 7.7MB/s eta 0:00:01\r\u001b[K     |███▋                            | 204kB 7.7MB/s eta 0:00:01\r\u001b[K     |███▉                            | 215kB 7.7MB/s eta 0:00:01\r\u001b[K     |████                            | 225kB 7.7MB/s eta 0:00:01\r\u001b[K     |████▏                           | 235kB 7.7MB/s eta 0:00:01\r\u001b[K     |████▍                           | 245kB 7.7MB/s eta 0:00:01\r\u001b[K     |████▌                           | 256kB 7.7MB/s eta 0:00:01\r\u001b[K     |████▊                           | 266kB 7.7MB/s eta 0:00:01\r\u001b[K     |█████                           | 276kB 7.7MB/s eta 0:00:01\r\u001b[K     |█████                           | 286kB 7.7MB/s eta 0:00:01\r\u001b[K     |█████▎                          | 296kB 7.7MB/s eta 0:00:01\r\u001b[K     |█████▍                          | 307kB 7.7MB/s eta 0:00:01\r\u001b[K     |█████▋                          | 317kB 7.7MB/s eta 0:00:01\r\u001b[K     |█████▉                          | 327kB 7.7MB/s eta 0:00:01\r\u001b[K     |██████                          | 337kB 7.7MB/s eta 0:00:01\r\u001b[K     |██████▏                         | 348kB 7.7MB/s eta 0:00:01\r\u001b[K     |██████▍                         | 358kB 7.7MB/s eta 0:00:01\r\u001b[K     |██████▌                         | 368kB 7.7MB/s eta 0:00:01\r\u001b[K     |██████▊                         | 378kB 7.7MB/s eta 0:00:01\r\u001b[K     |██████▉                         | 389kB 7.7MB/s eta 0:00:01\r\u001b[K     |███████                         | 399kB 7.7MB/s eta 0:00:01\r\u001b[K     |███████▎                        | 409kB 7.7MB/s eta 0:00:01\r\u001b[K     |███████▍                        | 419kB 7.7MB/s eta 0:00:01\r\u001b[K     |███████▋                        | 430kB 7.7MB/s eta 0:00:01\r\u001b[K     |███████▉                        | 440kB 7.7MB/s eta 0:00:01\r\u001b[K     |████████                        | 450kB 7.7MB/s eta 0:00:01\r\u001b[K     |████████▏                       | 460kB 7.7MB/s eta 0:00:01\r\u001b[K     |████████▍                       | 471kB 7.7MB/s eta 0:00:01\r\u001b[K     |████████▌                       | 481kB 7.7MB/s eta 0:00:01\r\u001b[K     |████████▊                       | 491kB 7.7MB/s eta 0:00:01\r\u001b[K     |████████▉                       | 501kB 7.7MB/s eta 0:00:01\r\u001b[K     |█████████                       | 512kB 7.7MB/s eta 0:00:01\r\u001b[K     |█████████▎                      | 522kB 7.7MB/s eta 0:00:01\r\u001b[K     |█████████▍                      | 532kB 7.7MB/s eta 0:00:01\r\u001b[K     |█████████▋                      | 542kB 7.7MB/s eta 0:00:01\r\u001b[K     |█████████▉                      | 552kB 7.7MB/s eta 0:00:01\r\u001b[K     |██████████                      | 563kB 7.7MB/s eta 0:00:01\r\u001b[K     |██████████▏                     | 573kB 7.7MB/s eta 0:00:01\r\u001b[K     |██████████▎                     | 583kB 7.7MB/s eta 0:00:01\r\u001b[K     |██████████▌                     | 593kB 7.7MB/s eta 0:00:01\r\u001b[K     |██████████▊                     | 604kB 7.7MB/s eta 0:00:01\r\u001b[K     |██████████▉                     | 614kB 7.7MB/s eta 0:00:01\r\u001b[K     |███████████                     | 624kB 7.7MB/s eta 0:00:01\r\u001b[K     |███████████▎                    | 634kB 7.7MB/s eta 0:00:01\r\u001b[K     |███████████▍                    | 645kB 7.7MB/s eta 0:00:01\r\u001b[K     |███████████▋                    | 655kB 7.7MB/s eta 0:00:01\r\u001b[K     |███████████▉                    | 665kB 7.7MB/s eta 0:00:01\r\u001b[K     |████████████                    | 675kB 7.7MB/s eta 0:00:01\r\u001b[K     |████████████▏                   | 686kB 7.7MB/s eta 0:00:01\r\u001b[K     |████████████▎                   | 696kB 7.7MB/s eta 0:00:01\r\u001b[K     |████████████▌                   | 706kB 7.7MB/s eta 0:00:01\r\u001b[K     |████████████▊                   | 716kB 7.7MB/s eta 0:00:01\r\u001b[K     |████████████▉                   | 727kB 7.7MB/s eta 0:00:01\r\u001b[K     |█████████████                   | 737kB 7.7MB/s eta 0:00:01\r\u001b[K     |█████████████▎                  | 747kB 7.7MB/s eta 0:00:01\r\u001b[K     |█████████████▍                  | 757kB 7.7MB/s eta 0:00:01\r\u001b[K     |█████████████▋                  | 768kB 7.7MB/s eta 0:00:01\r\u001b[K     |█████████████▊                  | 778kB 7.7MB/s eta 0:00:01\r\u001b[K     |██████████████                  | 788kB 7.7MB/s eta 0:00:01\r\u001b[K     |██████████████▏                 | 798kB 7.7MB/s eta 0:00:01\r\u001b[K     |██████████████▎                 | 808kB 7.7MB/s eta 0:00:01\r\u001b[K     |██████████████▌                 | 819kB 7.7MB/s eta 0:00:01\r\u001b[K     |██████████████▊                 | 829kB 7.7MB/s eta 0:00:01\r\u001b[K     |██████████████▉                 | 839kB 7.7MB/s eta 0:00:01\r\u001b[K     |███████████████                 | 849kB 7.7MB/s eta 0:00:01\r\u001b[K     |███████████████▎                | 860kB 7.7MB/s eta 0:00:01\r\u001b[K     |███████████████▍                | 870kB 7.7MB/s eta 0:00:01\r\u001b[K     |███████████████▋                | 880kB 7.7MB/s eta 0:00:01\r\u001b[K     |███████████████▊                | 890kB 7.7MB/s eta 0:00:01\r\u001b[K     |████████████████                | 901kB 7.7MB/s eta 0:00:01\r\u001b[K     |████████████████▏               | 911kB 7.7MB/s eta 0:00:01\r\u001b[K     |████████████████▎               | 921kB 7.7MB/s eta 0:00:01\r\u001b[K     |████████████████▌               | 931kB 7.7MB/s eta 0:00:01\r\u001b[K     |████████████████▊               | 942kB 7.7MB/s eta 0:00:01\r\u001b[K     |████████████████▉               | 952kB 7.7MB/s eta 0:00:01\r\u001b[K     |█████████████████               | 962kB 7.7MB/s eta 0:00:01\r\u001b[K     |█████████████████▏              | 972kB 7.7MB/s eta 0:00:01\r\u001b[K     |█████████████████▍              | 983kB 7.7MB/s eta 0:00:01\r\u001b[K     |█████████████████▋              | 993kB 7.7MB/s eta 0:00:01\r\u001b[K     |█████████████████▊              | 1.0MB 7.7MB/s eta 0:00:01\r\u001b[K     |██████████████████              | 1.0MB 7.7MB/s eta 0:00:01\r\u001b[K     |██████████████████▏             | 1.0MB 7.7MB/s eta 0:00:01\r\u001b[K     |██████████████████▎             | 1.0MB 7.7MB/s eta 0:00:01\r\u001b[K     |██████████████████▌             | 1.0MB 7.7MB/s eta 0:00:01\r\u001b[K     |██████████████████▊             | 1.1MB 7.7MB/s eta 0:00:01\r\u001b[K     |██████████████████▉             | 1.1MB 7.7MB/s eta 0:00:01\r\u001b[K     |███████████████████             | 1.1MB 7.7MB/s eta 0:00:01\r\u001b[K     |███████████████████▏            | 1.1MB 7.7MB/s eta 0:00:01\r\u001b[K     |███████████████████▍            | 1.1MB 7.7MB/s eta 0:00:01\r\u001b[K     |███████████████████▋            | 1.1MB 7.7MB/s eta 0:00:01\r\u001b[K     |███████████████████▊            | 1.1MB 7.7MB/s eta 0:00:01\r\u001b[K     |████████████████████            | 1.1MB 7.7MB/s eta 0:00:01\r\u001b[K     |████████████████████▏           | 1.1MB 7.7MB/s eta 0:00:01\r\u001b[K     |████████████████████▎           | 1.1MB 7.7MB/s eta 0:00:01\r\u001b[K     |████████████████████▌           | 1.2MB 7.7MB/s eta 0:00:01\r\u001b[K     |████████████████████▋           | 1.2MB 7.7MB/s eta 0:00:01\r\u001b[K     |████████████████████▉           | 1.2MB 7.7MB/s eta 0:00:01\r\u001b[K     |█████████████████████           | 1.2MB 7.7MB/s eta 0:00:01\r\u001b[K     |█████████████████████▏          | 1.2MB 7.7MB/s eta 0:00:01\r\u001b[K     |█████████████████████▍          | 1.2MB 7.7MB/s eta 0:00:01\r\u001b[K     |█████████████████████▋          | 1.2MB 7.7MB/s eta 0:00:01\r\u001b[K     |█████████████████████▊          | 1.2MB 7.7MB/s eta 0:00:01\r\u001b[K     |██████████████████████          | 1.2MB 7.7MB/s eta 0:00:01\r\u001b[K     |██████████████████████▏         | 1.2MB 7.7MB/s eta 0:00:01\r\u001b[K     |██████████████████████▎         | 1.3MB 7.7MB/s eta 0:00:01\r\u001b[K     |██████████████████████▌         | 1.3MB 7.7MB/s eta 0:00:01\r\u001b[K     |██████████████████████▋         | 1.3MB 7.7MB/s eta 0:00:01\r\u001b[K     |██████████████████████▉         | 1.3MB 7.7MB/s eta 0:00:01\r\u001b[K     |███████████████████████         | 1.3MB 7.7MB/s eta 0:00:01\r\u001b[K     |███████████████████████▏        | 1.3MB 7.7MB/s eta 0:00:01\r\u001b[K     |███████████████████████▍        | 1.3MB 7.7MB/s eta 0:00:01\r\u001b[K     |███████████████████████▋        | 1.3MB 7.7MB/s eta 0:00:01\r\u001b[K     |███████████████████████▊        | 1.3MB 7.7MB/s eta 0:00:01\r\u001b[K     |████████████████████████        | 1.4MB 7.7MB/s eta 0:00:01\r\u001b[K     |████████████████████████        | 1.4MB 7.7MB/s eta 0:00:01\r\u001b[K     |████████████████████████▎       | 1.4MB 7.7MB/s eta 0:00:01\r\u001b[K     |████████████████████████▌       | 1.4MB 7.7MB/s eta 0:00:01\r\u001b[K     |████████████████████████▋       | 1.4MB 7.7MB/s eta 0:00:01\r\u001b[K     |████████████████████████▉       | 1.4MB 7.7MB/s eta 0:00:01\r\u001b[K     |█████████████████████████       | 1.4MB 7.7MB/s eta 0:00:01\r\u001b[K     |█████████████████████████▏      | 1.4MB 7.7MB/s eta 0:00:01\r\u001b[K     |█████████████████████████▍      | 1.4MB 7.7MB/s eta 0:00:01\r\u001b[K     |█████████████████████████▋      | 1.4MB 7.7MB/s eta 0:00:01\r\u001b[K     |█████████████████████████▊      | 1.5MB 7.7MB/s eta 0:00:01\r\u001b[K     |██████████████████████████      | 1.5MB 7.7MB/s eta 0:00:01\r\u001b[K     |██████████████████████████      | 1.5MB 7.7MB/s eta 0:00:01\r\u001b[K     |██████████████████████████▎     | 1.5MB 7.7MB/s eta 0:00:01\r\u001b[K     |██████████████████████████▌     | 1.5MB 7.7MB/s eta 0:00:01\r\u001b[K     |██████████████████████████▋     | 1.5MB 7.7MB/s eta 0:00:01\r\u001b[K     |██████████████████████████▉     | 1.5MB 7.7MB/s eta 0:00:01\r\u001b[K     |███████████████████████████     | 1.5MB 7.7MB/s eta 0:00:01\r\u001b[K     |███████████████████████████▏    | 1.5MB 7.7MB/s eta 0:00:01\r\u001b[K     |███████████████████████████▍    | 1.5MB 7.7MB/s eta 0:00:01\r\u001b[K     |███████████████████████████▌    | 1.6MB 7.7MB/s eta 0:00:01\r\u001b[K     |███████████████████████████▊    | 1.6MB 7.7MB/s eta 0:00:01\r\u001b[K     |████████████████████████████    | 1.6MB 7.7MB/s eta 0:00:01\r\u001b[K     |████████████████████████████    | 1.6MB 7.7MB/s eta 0:00:01\r\u001b[K     |████████████████████████████▎   | 1.6MB 7.7MB/s eta 0:00:01\r\u001b[K     |████████████████████████████▌   | 1.6MB 7.7MB/s eta 0:00:01\r\u001b[K     |████████████████████████████▋   | 1.6MB 7.7MB/s eta 0:00:01\r\u001b[K     |████████████████████████████▉   | 1.6MB 7.7MB/s eta 0:00:01\r\u001b[K     |█████████████████████████████   | 1.6MB 7.7MB/s eta 0:00:01\r\u001b[K     |█████████████████████████████▏  | 1.6MB 7.7MB/s eta 0:00:01\r\u001b[K     |█████████████████████████████▍  | 1.7MB 7.7MB/s eta 0:00:01\r\u001b[K     |█████████████████████████████▌  | 1.7MB 7.7MB/s eta 0:00:01\r\u001b[K     |█████████████████████████████▊  | 1.7MB 7.7MB/s eta 0:00:01\r\u001b[K     |██████████████████████████████  | 1.7MB 7.7MB/s eta 0:00:01\r\u001b[K     |██████████████████████████████  | 1.7MB 7.7MB/s eta 0:00:01\r\u001b[K     |██████████████████████████████▎ | 1.7MB 7.7MB/s eta 0:00:01\r\u001b[K     |██████████████████████████████▌ | 1.7MB 7.7MB/s eta 0:00:01\r\u001b[K     |██████████████████████████████▋ | 1.7MB 7.7MB/s eta 0:00:01\r\u001b[K     |██████████████████████████████▉ | 1.7MB 7.7MB/s eta 0:00:01\r\u001b[K     |███████████████████████████████ | 1.8MB 7.7MB/s eta 0:00:01\r\u001b[K     |███████████████████████████████▏| 1.8MB 7.7MB/s eta 0:00:01\r\u001b[K     |███████████████████████████████▍| 1.8MB 7.7MB/s eta 0:00:01\r\u001b[K     |███████████████████████████████▌| 1.8MB 7.7MB/s eta 0:00:01\r\u001b[K     |███████████████████████████████▊| 1.8MB 7.7MB/s eta 0:00:01\r\u001b[K     |████████████████████████████████| 1.8MB 7.7MB/s eta 0:00:01\r\u001b[K     |████████████████████████████████| 1.8MB 7.7MB/s \n",
            "\u001b[?25hRequirement already satisfied: six>=1.13.0 in /usr/local/lib/python3.7/dist-packages (from wandb) (1.15.0)\n",
            "Collecting shortuuid>=0.5.0\n",
            "  Downloading https://files.pythonhosted.org/packages/25/a6/2ecc1daa6a304e7f1b216f0896b26156b78e7c38e1211e9b798b4716c53d/shortuuid-1.0.1-py3-none-any.whl\n",
            "Requirement already satisfied: protobuf>=3.12.0 in /usr/local/lib/python3.7/dist-packages (from wandb) (3.12.4)\n",
            "Requirement already satisfied: PyYAML in /usr/local/lib/python3.7/dist-packages (from wandb) (3.13)\n",
            "Requirement already satisfied: psutil>=5.0.0 in /usr/local/lib/python3.7/dist-packages (from wandb) (5.4.8)\n",
            "Collecting subprocess32>=3.5.3\n",
            "\u001b[?25l  Downloading https://files.pythonhosted.org/packages/32/c8/564be4d12629b912ea431f1a50eb8b3b9d00f1a0b1ceff17f266be190007/subprocess32-3.5.4.tar.gz (97kB)\n",
            "\u001b[K     |████████████████████████████████| 102kB 13.5MB/s \n",
            "\u001b[?25hRequirement already satisfied: requests<3,>=2.0.0 in /usr/local/lib/python3.7/dist-packages (from wandb) (2.23.0)\n",
            "Requirement already satisfied: Click>=7.0 in /usr/local/lib/python3.7/dist-packages (from wandb) (8.0.0)\n",
            "Collecting GitPython>=1.0.0\n",
            "\u001b[?25l  Downloading https://files.pythonhosted.org/packages/27/da/6f6224fdfc47dab57881fe20c0d1bc3122be290198ba0bf26a953a045d92/GitPython-3.1.17-py3-none-any.whl (166kB)\n",
            "\u001b[K     |████████████████████████████████| 174kB 46.0MB/s \n",
            "\u001b[?25hCollecting sentry-sdk>=0.4.0\n",
            "\u001b[?25l  Downloading https://files.pythonhosted.org/packages/1c/4a/a54b254f67d8f4052338d54ebe90126f200693440a93ef76d254d581e3ec/sentry_sdk-1.1.0-py2.py3-none-any.whl (131kB)\n",
            "\u001b[K     |████████████████████████████████| 133kB 49.9MB/s \n",
            "\u001b[?25hCollecting docker-pycreds>=0.4.0\n",
            "  Downloading https://files.pythonhosted.org/packages/f5/e8/f6bd1eee09314e7e6dee49cbe2c5e22314ccdb38db16c9fc72d2fa80d054/docker_pycreds-0.4.0-py2.py3-none-any.whl\n",
            "Requirement already satisfied: python-dateutil>=2.6.1 in /usr/local/lib/python3.7/dist-packages (from wandb) (2.8.1)\n",
            "Requirement already satisfied: promise<3,>=2.0 in /usr/local/lib/python3.7/dist-packages (from wandb) (2.3)\n",
            "Collecting configparser>=3.8.1\n",
            "  Downloading https://files.pythonhosted.org/packages/fd/01/ff260a18caaf4457eb028c96eeb405c4a230ca06c8ec9c1379f813caa52e/configparser-5.0.2-py3-none-any.whl\n",
            "Collecting pathtools\n",
            "  Downloading https://files.pythonhosted.org/packages/e7/7f/470d6fcdf23f9f3518f6b0b76be9df16dcc8630ad409947f8be2eb0ed13a/pathtools-0.1.2.tar.gz\n",
            "Requirement already satisfied: setuptools in /usr/local/lib/python3.7/dist-packages (from protobuf>=3.12.0->wandb) (56.1.0)\n",
            "Requirement already satisfied: chardet<4,>=3.0.2 in /usr/local/lib/python3.7/dist-packages (from requests<3,>=2.0.0->wandb) (3.0.4)\n",
            "Requirement already satisfied: idna<3,>=2.5 in /usr/local/lib/python3.7/dist-packages (from requests<3,>=2.0.0->wandb) (2.10)\n",
            "Requirement already satisfied: urllib3!=1.25.0,!=1.25.1,<1.26,>=1.21.1 in /usr/local/lib/python3.7/dist-packages (from requests<3,>=2.0.0->wandb) (1.24.3)\n",
            "Requirement already satisfied: certifi>=2017.4.17 in /usr/local/lib/python3.7/dist-packages (from requests<3,>=2.0.0->wandb) (2020.12.5)\n",
            "Requirement already satisfied: typing-extensions>=3.7.4.0; python_version < \"3.8\" in /usr/local/lib/python3.7/dist-packages (from GitPython>=1.0.0->wandb) (3.7.4.3)\n",
            "Collecting gitdb<5,>=4.0.1\n",
            "\u001b[?25l  Downloading https://files.pythonhosted.org/packages/ea/e8/f414d1a4f0bbc668ed441f74f44c116d9816833a48bf81d22b697090dba8/gitdb-4.0.7-py3-none-any.whl (63kB)\n",
            "\u001b[K     |████████████████████████████████| 71kB 11.0MB/s \n",
            "\u001b[?25hCollecting smmap<5,>=3.0.1\n",
            "  Downloading https://files.pythonhosted.org/packages/68/ee/d540eb5e5996eb81c26ceffac6ee49041d473bc5125f2aa995cf51ec1cf1/smmap-4.0.0-py2.py3-none-any.whl\n",
            "Building wheels for collected packages: subprocess32, pathtools\n",
            "  Building wheel for subprocess32 (setup.py) ... \u001b[?25l\u001b[?25hdone\n",
            "  Created wheel for subprocess32: filename=subprocess32-3.5.4-cp37-none-any.whl size=6489 sha256=5afbfa35419e1c42b14534f2fb4a4f9c231fbaf8e9385706b0a5fe0bde6f7404\n",
            "  Stored in directory: /root/.cache/pip/wheels/68/39/1a/5e402bdfdf004af1786c8b853fd92f8c4a04f22aad179654d1\n",
            "  Building wheel for pathtools (setup.py) ... \u001b[?25l\u001b[?25hdone\n",
            "  Created wheel for pathtools: filename=pathtools-0.1.2-cp37-none-any.whl size=8786 sha256=35c76c5144531b5e9076cdb71cf027eb8968746d533a06392cc2839363127b1b\n",
            "  Stored in directory: /root/.cache/pip/wheels/0b/04/79/c3b0c3a0266a3cb4376da31e5bfe8bba0c489246968a68e843\n",
            "Successfully built subprocess32 pathtools\n",
            "Installing collected packages: shortuuid, subprocess32, smmap, gitdb, GitPython, sentry-sdk, docker-pycreds, configparser, pathtools, wandb\n",
            "Successfully installed GitPython-3.1.17 configparser-5.0.2 docker-pycreds-0.4.0 gitdb-4.0.7 pathtools-0.1.2 sentry-sdk-1.1.0 shortuuid-1.0.1 smmap-4.0.0 subprocess32-3.5.4 wandb-0.10.30\n"
          ],
          "name": "stdout"
        }
      ]
    },
    {
      "cell_type": "markdown",
      "metadata": {
        "id": "pk1JX9Z8OvrK"
      },
      "source": [
        "***Importing Libraries and Load Data***"
      ]
    },
    {
      "cell_type": "code",
      "metadata": {
        "id": "tH8IIFC4UMPg",
        "colab": {
          "base_uri": "https://localhost:8080/"
        },
        "outputId": "ddc8bb6e-74b5-4d0a-ecc3-7cf80ad409aa"
      },
      "source": [
        "import numpy as np\n",
        "import matplotlib.pyplot as plt\n",
        "from keras.datasets import fashion_mnist\n",
        "from keras.datasets import mnist\n",
        "from sklearn.manifold import TSNE\n",
        "import pickle\n",
        "import wandb\n",
        "\n",
        "# load dataset\n",
        "(x_train, y_train), (x_test, y_test) = fashion_mnist.load_data()\n",
        "class_type = ['T-shirt/top', 'Trouser', 'Pullover', 'Dress', 'Coat','Sandal', 'Shirt', 'Sneaker', 'Bag', 'Ankle boot'] \n",
        "\n",
        "proj_name='CS6910 ASSIGNMENT 4'"
      ],
      "execution_count": null,
      "outputs": [
        {
          "output_type": "stream",
          "text": [
            "Downloading data from https://storage.googleapis.com/tensorflow/tf-keras-datasets/train-labels-idx1-ubyte.gz\n",
            "32768/29515 [=================================] - 0s 0us/step\n",
            "Downloading data from https://storage.googleapis.com/tensorflow/tf-keras-datasets/train-images-idx3-ubyte.gz\n",
            "26427392/26421880 [==============================] - 0s 0us/step\n",
            "Downloading data from https://storage.googleapis.com/tensorflow/tf-keras-datasets/t10k-labels-idx1-ubyte.gz\n",
            "8192/5148 [===============================================] - 0s 0us/step\n",
            "Downloading data from https://storage.googleapis.com/tensorflow/tf-keras-datasets/t10k-images-idx3-ubyte.gz\n",
            "4423680/4422102 [==============================] - 0s 0us/step\n"
          ],
          "name": "stdout"
        }
      ]
    },
    {
      "cell_type": "markdown",
      "metadata": {
        "id": "5JBDFxo1OjPA"
      },
      "source": [
        "***Modify and Restructure Data***"
      ]
    },
    {
      "cell_type": "code",
      "metadata": {
        "id": "tWyanHGZYK_5"
      },
      "source": [
        "# Initializations\n",
        "\n",
        "# Data\n",
        "X_train = np.array(x_train.reshape(x_train.shape[0], 784,1))         # reshape 2-D data to 1-D\n",
        "X_test  = np.array(x_test.reshape(x_test.shape[0], 784,1))           # reshape 2-D data to 1-D\n",
        "X_train = (X_train > 126) * 1                                        # convert the real valued data into binary data, using a threshold of 127\n",
        "X_test  = (X_test > 126) * 1                                         # convert the real valued data into binary data, using a threshold of 127\n",
        "\n",
        "X_val = X_train[-15000:]                                             # validation set input (to train Classifier)\n",
        "X_train = X_train[0:45000]                                           # training set input (to train RBM)\n",
        "\n",
        "Y_train = np.zeros([len(y_train),10,1])\n",
        "Y_test = np.zeros([len(y_test),10,1])\n",
        "\n",
        "for i in range(len(y_train)):                                        # convert y from just a class number to one hot vector (10x1)\n",
        "  y = np.zeros([10, 1])\n",
        "  y[y_train[i]] = 1.0\n",
        "  Y_train[i] = y\n",
        "\n",
        "for i in range(len(y_test)):                                         # convert y from just a class number to one hot vector (10x1)\n",
        "  y = np.zeros([10, 1])\n",
        "  y[y_test[i]] = 1.0\n",
        "  Y_test[i] = y                                                      # test set output\n",
        "\n",
        "Y_val = Y_train[-15000:]                                             # validation set output\n",
        "Y_train = Y_train[0:45000]                                           # training set output"
      ],
      "execution_count": null,
      "outputs": []
    },
    {
      "cell_type": "markdown",
      "metadata": {
        "id": "MMIBhHkmOcLU"
      },
      "source": [
        "***Hyperparameters and Basic variables***"
      ]
    },
    {
      "cell_type": "code",
      "metadata": {
        "id": "gA9IZFltcaJq"
      },
      "source": [
        "n_visible = X_train.shape[1]                                         # number of visible neurons\n",
        "n_train_examples = X_train.shape[0]                                  # number of training data\n",
        "n_val_examples = X_val.shape[0]                                      # number of validation data\n",
        "n_test_examples = X_test.shape[0]                                    # number of test data\n",
        "n_hidden = 80                                                        # number of hidden neurons\n",
        "n_class = 10\n",
        "\n"
      ],
      "execution_count": null,
      "outputs": []
    },
    {
      "cell_type": "markdown",
      "metadata": {
        "id": "G5jcNzIFzF4-"
      },
      "source": [
        "***Parameter Initialization (Weights and Biases)***"
      ]
    },
    {
      "cell_type": "code",
      "metadata": {
        "id": "H6hjDjNRc1FR"
      },
      "source": [
        "def rbm_param_init() :                                                                        # Function to randomly initialize the RBM network parameters \n",
        "\t\n",
        "  rbm_parameters = {}\n",
        "  rbm_parameters[\"W\"] = np.random.randn(n_hidden, n_visible)*np.sqrt(6./(n_visible + n_hidden))   # Xavier Initialization of weights\n",
        "  rbm_parameters[\"h_bias\"] = np.zeros((n_hidden,1),dtype=np.float64)                                                     \n",
        "  rbm_parameters[\"v_bias\"] = np.zeros((n_visible,1),dtype=np.float64)\n",
        "\n",
        "  return rbm_parameters\n",
        "\n",
        "def classifier_param_init() :                                                                 # Function to randomly initialize the Classifier network parameters\n",
        "\n",
        "  classifier = {}\n",
        "  classifier[\"W\"] = np.random.randn(n_class, n_hidden)*np.sqrt(6./(n_class + n_hidden))       # Xavier Initialization of weights\n",
        "  classifier[\"b\"] = np.zeros((n_class,1),dtype=np.float64)\n",
        "\n",
        "  return classifier\n",
        "\n",
        "def sigmoid(x) :                                                                              # RBM hidden layer activation function \n",
        "\t\n",
        "  return 1.0/(1.0+np.exp(-x))\n",
        "\n",
        "def softmax(x):                                                                               # Output activation function\n",
        "    \n",
        "  return np.exp(x) / np.sum(np.exp(x))  "
      ],
      "execution_count": null,
      "outputs": []
    },
    {
      "cell_type": "markdown",
      "metadata": {
        "id": "GSGgVr3ZO8-a"
      },
      "source": [
        "***RBM and Classifier Trainer***"
      ]
    },
    {
      "cell_type": "code",
      "metadata": {
        "id": "rKRIg5kXoNlj"
      },
      "source": [
        "def rbm_train(X_train,parameters,k,learning_rate) :                                     # Function to train the RBM\n",
        "\t\n",
        "  W = parameters[\"W\"]\n",
        "  h_bias = parameters[\"h_bias\"]\n",
        "  v_bias = parameters[\"v_bias\"]\n",
        "  \n",
        "  #batches = n_examples // batchsize\n",
        "  \n",
        "  for i in range(n_train_examples) :\n",
        "      v_sample = X_train[i]\n",
        "      v_init   = X_train[i]\n",
        "\n",
        "      for t in range(k) :                                                               # Markov Chain - Loop\n",
        "         h_given_v = sigmoid(np.dot(W,v_sample)+h_bias)                                  # Evaluate p(h|v)\n",
        "         h_sample = np.random.binomial(1,h_given_v)                                      # Convert to 0's and 1's assuming binomial distribution p(h|v) \n",
        "         v_given_h = sigmoid(np.dot(np.transpose(W),h_sample)+v_bias)                    # Evaluate p(v|h)\n",
        "         v_sample = np.random.binomial(1,v_given_h)                                      # Convert to 0's and 1's assuming binomial distribution p(v|h)\n",
        "\n",
        "      # Update Rule\n",
        "      W = W + learning_rate*(np.dot(sigmoid(np.dot(W,v_init)+h_bias),np.transpose(v_init)) - np.dot(sigmoid(np.dot(W,v_sample)+h_bias),np.transpose(v_sample)))\n",
        "      v_bias = v_bias + learning_rate*(v_init-v_sample)\n",
        "      h_bias = h_bias + learning_rate*(sigmoid(np.dot(W,v_init)+h_bias) - sigmoid(np.dot(W,v_sample)+h_bias))\n",
        "\n",
        "  parameters[\"W\"] = W\n",
        "  parameters[\"h_bias\"] = h_bias\n",
        "  parameters[\"v_bias\"] = v_bias\n",
        "  print(\"Training Complete\")\n",
        "\n",
        "  return parameters\n",
        "\n",
        "\n",
        "def get_hidden(x,parameters) :                                                                # function to get the hidden representation of the test data\n",
        "   \n",
        "    W = parameters[\"W\"]\n",
        "    h_bias = parameters[\"h_bias\"]\n",
        "    hidden_prob = sigmoid(np.dot(W,x)+h_bias)\n",
        "    hidden_rep = np.random.binomial(1,hidden_prob)\n",
        "    \n",
        "    return hidden_rep\n",
        "\n",
        "def classifier_train(X,Y,rbm_parameters,classifier_param,classifier_epochs,learning_rate)  :                                  # Function to train Classifier\n",
        "    \n",
        "    W = classifier_param[\"W\"]\n",
        "    b = classifier_param[\"b\"]\n",
        "    \n",
        "    for epoch in range(classifier_epochs) :\n",
        "      for i in range(n_val_examples) :\n",
        "         # feed forward\n",
        "         hidden_rep = get_hidden(X[i],rbm_parameters)                                         # Obtain hidden representation for the given sample\n",
        "         pre_output = np.dot(W,hidden_rep)+b\n",
        "         y_hat = softmax(pre_output)\n",
        "         # backpropogate\n",
        "         dW = np.dot(-(Y[i]-y_hat),np.transpose(hidden_rep))\n",
        "         db = -(Y[i]-y_hat)\n",
        "         # Update Classifier weights\n",
        "         W = W - learning_rate*dW\n",
        "         b = b - learning_rate*db\n",
        "\n",
        "    classifier_param[\"W\"] = W\n",
        "    classifier_param[\"b\"] = b \n",
        "    \n",
        "    return classifier_param   \n"
      ],
      "execution_count": null,
      "outputs": []
    },
    {
      "cell_type": "code",
      "metadata": {
        "id": "XPOct2Jubjwi"
      },
      "source": [
        "def rbm_classifier(X_train,Y_train,X_val,Y_val,X_test,Y_test,rbm_epochs,classifier_epochs,k,n_hidden,learning_rate) :\n",
        "\n",
        "  classifier_param = classifier_param_init() \n",
        "  rbm_parameters = rbm_param_init()\n",
        "\n",
        "  for j in range(rbm_epochs) :\n",
        "\n",
        "     rbm_parameters = rbm_train(X_train,rbm_parameters,k,learning_rate)                             # Train RBM for one epoch\n",
        "     classifier_param = classifier_train(X_val,Y_val,rbm_parameters,classifier_param,classifier_epochs,learning_rate)               # Train the classifier with hidden representation of RBM\n",
        "     \n",
        "     accuracy = 0.0\n",
        "     loss = 0.0 \n",
        "     # Evaluate accuracy and loss over test data\n",
        "\n",
        "     for i in range(n_test_examples) :\n",
        "\n",
        "        h = get_hidden(X_test[i],rbm_parameters)\n",
        "        y_hat = softmax(np.dot(classifier_param[\"W\"],h)+classifier_param[\"b\"])\n",
        "\n",
        "        if y_hat.argmax()==Y_test[i].argmax():\n",
        "            accuracy = accuracy + 1\n",
        "        loss = loss + -1*np.sum(np.multiply(y,np.log(y_hat)))\n",
        "\n",
        "     accuracy = accuracy/n_test_examples\n",
        "     loss = loss/n_test_examples \n",
        "     print(\"Epoch : \" + str(j)+\" Accuracy : \"+ str(accuracy)+\" Loss : \"+str(loss))\n",
        "    # wandb.log({\"Accuracy\":accuracy,\"Loss\":loss,\"Epoch\":j})\n",
        "\n",
        "  return rbm_parameters,classifier_param\n",
        "      \n",
        "\n",
        "\t"
      ],
      "execution_count": null,
      "outputs": []
    },
    {
      "cell_type": "code",
      "metadata": {
        "id": "Kj2gP0OWUK8r"
      },
      "source": [
        "def train():\n",
        "  hyperparameter_defaults=dict(\n",
        "        rbm_epochs = 20,\n",
        "        classifier_epochs = 1,\n",
        "        k = 2,\n",
        "        n_hidden = 256,\n",
        "        learning_rate = 0.001                                                                    \n",
        "        )\n",
        "\n",
        "  wandb.init(config=hyperparameter_defaults)\n",
        "\n",
        "  config=wandb.config\n",
        "  rbm_parameters,classifier_param = rbm_classifier(X_train,Y_train,X_val,Y_val,X_test,Y_test,config.rbm_epochs,config.classifier_epochs,config.k,config.n_hidden,config.learning_rate)\n",
        "\n",
        "\n"
      ],
      "execution_count": null,
      "outputs": []
    },
    {
      "cell_type": "code",
      "metadata": {
        "id": "addT0XZjvWC0"
      },
      "source": [
        "def sweeper(sweep_config,proj_name):\n",
        "  sweep_id = wandb.sweep(sweep_config,project=proj_name,entity='cs6910krsrd',)\n",
        "  wandb.agent(sweep_id,train,project=proj_name,entity='cs6910krsrd',)"
      ],
      "execution_count": null,
      "outputs": []
    },
    {
      "cell_type": "code",
      "metadata": {
        "id": "ckwNuoUM2nbN"
      },
      "source": [
        "#sweep dictionary\n",
        "sweep_config={\n",
        "    'method':'bayes',\n",
        "    'metric':{\n",
        "        'name':'accuracy',\n",
        "        'goal':'maximize'},\n",
        "\n",
        "}\n",
        "\n",
        "parameters_dict={\n",
        "    \n",
        "    'rbm_epochs':{\n",
        "      'values':[20]  \n",
        "    },\n",
        "    'classifier_epochs':{\n",
        "        'values':[1]\n",
        "    },\n",
        "    'k':{\n",
        "        'values':[20]\n",
        "    },\n",
        "    'n_hidden':{\n",
        "        'values':[64]      #,128,256]\n",
        "    },\n",
        "    'learning_rate':{\n",
        "        'values':[0.01]\n",
        "    }\n",
        "    \n",
        "}\n",
        "\n",
        "sweep_config['parameters']=parameters_dict"
      ],
      "execution_count": null,
      "outputs": []
    },
    {
      "cell_type": "code",
      "metadata": {
        "colab": {
          "background_save": true
        },
        "id": "AgFpMnsL9xpx"
      },
      "source": [
        "sweeper(sweep_config,proj_name)"
      ],
      "execution_count": null,
      "outputs": []
    },
    {
      "cell_type": "markdown",
      "metadata": {
        "id": "7IL7Wk_ASjoy"
      },
      "source": [
        "***Training over Best Model***\n",
        "\n",
        "We train the RBM-Classifier Model over the estimated best hyperparameters (obtained from WandB sweep) and present the evolution of Accuracy and Loss over each epoch."
      ]
    },
    {
      "cell_type": "code",
      "metadata": {
        "colab": {
          "base_uri": "https://localhost:8080/"
        },
        "id": "2iVXhT-gzFy7",
        "outputId": "d049bf94-ea2e-4b57-a6de-f9c2bb646afc"
      },
      "source": [
        "rbm_epochs = 20\n",
        "classifier_epochs = 1\n",
        "k = 2\n",
        "n_hidden = 256\n",
        "learning_rate = 0.001\n",
        "\n",
        "rbm_parameters,classifier_param = rbm_classifier(X_train,Y_train,X_val,Y_val,X_test,Y_test,rbm_epochs,classifier_epochs,k,n_hidden,learning_rate)\n"
      ],
      "execution_count": null,
      "outputs": [
        {
          "output_type": "stream",
          "text": [
            "Training Complete\n",
            "Epoch : 0 Accuracy : 0.6852 Loss : 4.8935880547215005\n",
            "Training Complete\n",
            "Epoch : 1 Accuracy : 0.7149 Loss : 5.541212127193662\n",
            "Training Complete\n",
            "Epoch : 2 Accuracy : 0.7258 Loss : 5.7733594758385305\n",
            "Training Complete\n",
            "Epoch : 3 Accuracy : 0.735 Loss : 6.051192427744464\n",
            "Training Complete\n",
            "Epoch : 4 Accuracy : 0.7421 Loss : 6.2796923075586255\n",
            "Training Complete\n",
            "Epoch : 5 Accuracy : 0.7484 Loss : 6.537205604530749\n",
            "Training Complete\n",
            "Epoch : 6 Accuracy : 0.7535 Loss : 6.594853751490703\n",
            "Training Complete\n",
            "Epoch : 7 Accuracy : 0.7573 Loss : 6.76709769951916\n",
            "Training Complete\n",
            "Epoch : 8 Accuracy : 0.7568 Loss : 6.970710645017054\n",
            "Training Complete\n",
            "Epoch : 9 Accuracy : 0.7619 Loss : 6.994635801039182\n",
            "Training Complete\n",
            "Epoch : 10 Accuracy : 0.7613 Loss : 7.150844112372009\n",
            "Training Complete\n",
            "Epoch : 11 Accuracy : 0.7647 Loss : 7.268909332846837\n",
            "Training Complete\n",
            "Epoch : 12 Accuracy : 0.7677 Loss : 7.313604587878048\n",
            "Training Complete\n",
            "Epoch : 13 Accuracy : 0.7699 Loss : 7.423776189683883\n",
            "Training Complete\n",
            "Epoch : 14 Accuracy : 0.7707 Loss : 7.448773553518513\n",
            "Training Complete\n",
            "Epoch : 15 Accuracy : 0.771 Loss : 7.597857268417724\n",
            "Training Complete\n",
            "Epoch : 16 Accuracy : 0.7796 Loss : 7.536939565253062\n",
            "Training Complete\n",
            "Epoch : 17 Accuracy : 0.7749 Loss : 7.7078887337942925\n",
            "Training Complete\n",
            "Epoch : 18 Accuracy : 0.7797 Loss : 7.783375969883795\n",
            "Training Complete\n",
            "Epoch : 19 Accuracy : 0.7792 Loss : 7.899721512012905\n"
          ],
          "name": "stdout"
        }
      ]
    },
    {
      "cell_type": "markdown",
      "metadata": {
        "id": "M5qqvHV_ypKa"
      },
      "source": [
        "Saving Parameters"
      ]
    },
    {
      "cell_type": "code",
      "metadata": {
        "id": "vK95fKZlylHj"
      },
      "source": [
        "MODEL_NAME =\"Ass4_Model\"\n",
        "RBM_DIR=\"rbm_param.pkl\"\n",
        "CLASS_DIR=\"class_param.pkl\"\n",
        "\n",
        "\n",
        "conf_dict={\n",
        "    'rbm_epochs':rbm_epochs,\n",
        "    'classifier_epochs':classifier_epochs,\n",
        "    'k':k,\n",
        "    'n_hidden':n_hidden,\n",
        "    'learning_rate':learning_rate\n",
        "}\n",
        "\n",
        "\n",
        "rbm_file=open(RBM_DIR,\"wb\")\n",
        "pickle.dump(rbm_parameters,rbm_file)\n",
        "rbm_file.close()\n",
        "\n",
        "class_file=open(CLASS_DIR,\"wb\")\n",
        "pickle.dump(classifier_param,class_file)\n",
        "class_file.close()\n",
        "\n",
        "run = wandb.init(project=proj_name, job_type=\"save_model\")\n",
        "\n",
        "rbm_artifact = wandb.Artifact(\n",
        "          MODEL_NAME+\"rbm\", type=\"model\",\n",
        "          description=\"rbm_parameters\",\n",
        "          metadata=conf_dict)\n",
        "\n",
        "\n",
        "classifier_artifact = wandb.Artifact(\n",
        "          MODEL_NAME+\"class\", type=\"model\",\n",
        "          description=\"classifier_param\",\n",
        "          metadata=conf_dict)\n",
        "\n",
        "rbm_artifact.add_file(RBM_DIR)\n",
        "classifier_artifact.add_file(CLASS_DIR)\n",
        "\n",
        "run.log_artifact(rbm_artifact)\n",
        "run.log_artifact(classifier_artifact)\n",
        "\n",
        "run.finish()"
      ],
      "execution_count": null,
      "outputs": []
    },
    {
      "cell_type": "markdown",
      "metadata": {
        "id": "0apLFdQyynuX"
      },
      "source": [
        "Loading Parameters"
      ]
    },
    {
      "cell_type": "code",
      "metadata": {
        "id": "rqw6Wc_9yzAI"
      },
      "source": [
        "run = wandb.init(project=proj_name, job_type=\"load_model\")\n",
        "\n",
        "\n",
        "rbm_at = run.use_artifact('cs6910krsrd/CS6910 ASSIGNMENT 4/Ass4_Modelrbm:v0', type='model')                         #load different versions of model\n",
        "MODEL_DIR= rbm_at.download()\n",
        "\n",
        "rbm_file=open(MODEL_DIR+\"/\"+RBM_DIR,\"rb\")\n",
        "rbm_parameters = pickle.load(rbm_file)\n",
        "rbm_file.close()\n",
        "\n",
        "class_at = run.use_artifact('cs6910krsrd/CS6910 ASSIGNMENT 4/Ass4_Modelclass:v0', type='model')\n",
        "MODEL_DIR= class_at.download()\n",
        "\n",
        "class_file=open(MODEL_DIR+\"/\"+CLASS_DIR,\"rb\")\n",
        "classifier_param = pickle.load(class_file)\n",
        "class_file.close()\n",
        "\n",
        "run.finish()"
      ],
      "execution_count": null,
      "outputs": []
    },
    {
      "cell_type": "markdown",
      "metadata": {
        "id": "m86g7tgTRAGV"
      },
      "source": [
        "\n",
        "***Contrastive Divergence Results***\n",
        "\n",
        "For the best RBM-Classifier Model, the hyperparameters are \n",
        "    \n",
        "\n",
        "*   n_hidden neurons = 256\n",
        "*   number of Markov steps = 2\n",
        "*   learning rate = 0.01\n",
        "\n",
        "The accuracy achieved over test-data is 78% after 20 epochs of training RBM-Classifier Model.\n",
        "\n",
        "\n",
        "\n"
      ]
    },
    {
      "cell_type": "markdown",
      "metadata": {
        "id": "ASfxbHLoyKGT"
      },
      "source": [
        "***Visualising Hidden Representation using t-SNE Plot*** "
      ]
    },
    {
      "cell_type": "code",
      "metadata": {
        "id": "UUWWZfKkC6j8",
        "colab": {
          "base_uri": "https://localhost:8080/"
        },
        "outputId": "89597c26-53e6-47fc-9332-dfbb46e56a67"
      },
      "source": [
        "from sklearn.manifold import TSNE\n",
        "\n",
        "hidden_reps = []\n",
        "\n",
        "for i in range(n_test_examples) :\n",
        "  \n",
        "    h = get_hidden(X_test[i],rbm_parameters)\n",
        "    hidden_reps.append(np.array(h))\n",
        "\n",
        "print(np.shape(hidden_reps))\n",
        "\n",
        "hidden_reps = np.array(hidden_reps)\n",
        "hidden_reps = np.resize(hidden_reps, (n_test_examples,256))\n",
        "embedded = TSNE(n_components = 2, early_exaggeration = 7).fit_transform(hidden_reps)           # n_components = Dimension of the embedded space (here 2D).\n",
        "\n",
        "vis_x = embedded[:,0]\n",
        "vis_y = embedded[:,1]\n"
      ],
      "execution_count": null,
      "outputs": [
        {
          "output_type": "stream",
          "text": [
            "(10000, 256, 1)\n"
          ],
          "name": "stdout"
        }
      ]
    },
    {
      "cell_type": "code",
      "metadata": {
        "id": "19114e7kEpZM",
        "colab": {
          "base_uri": "https://localhost:8080/",
          "height": 1000,
          "referenced_widgets": [
            "4afa53d9c61c4bf7ba83938153a4782b",
            "405bbd3e926747bdb693c2628e81bd61",
            "24388d6805a04a788a009f57a76396a6",
            "80a87c136588461aa3db523bef84fdff",
            "e07c94ebac18439b90cac1570aaa9996",
            "18170b5680c34c258a0f6af71659c422",
            "27f42ad1d7bb48868dbcaddc10fa772d",
            "c893a322148845f3a76a09746c366ae7"
          ]
        },
        "outputId": "6d071552-e92f-40b8-85fb-ded078a2e134"
      },
      "source": [
        "run = wandb.init(project=proj_name,entity='cs6910krsrd',)\n",
        "\n",
        "path_to_img = \"./embed.png\" \n",
        "\n",
        "plt.figure(figsize = (10,8))\n",
        "plt.title(\"Embeddings for testing examples\")\n",
        "plt.xlabel(\"X\")\n",
        "plt.ylabel(\"Y\")\n",
        "plt.scatter(vis_x[:10000], vis_y[:10000], c = y_test[:10000], cmap = plt.cm.get_cmap(\"jet\", 10))\n",
        "plt.colorbar(ticks = range(max(y_test)))\n",
        "plt.savefig ( path_to_img )\n",
        "plt.show()\n",
        "class_type = ['T-shirt/top', 'Trouser', 'Pullover', 'Dress', 'Coat','Sandal', 'Shirt', 'Sneaker', 'Bag', 'Ankle boot']\n",
        "im = plt.imread(path_to_img)\n",
        "\n",
        "# Log image(s)\n",
        "wandb.log({\"t-SNE Plot\": [wandb.Image(im, caption=\"plot\")]})\n",
        "\n",
        "run.finish() "
      ],
      "execution_count": null,
      "outputs": [
        {
          "output_type": "stream",
          "text": [
            "\u001b[34m\u001b[1mwandb\u001b[0m: Currently logged in as: \u001b[33mkrsrinivas\u001b[0m (use `wandb login --relogin` to force relogin)\n"
          ],
          "name": "stderr"
        },
        {
          "output_type": "display_data",
          "data": {
            "text/html": [
              "\n",
              "                Tracking run with wandb version 0.10.30<br/>\n",
              "                Syncing run <strong style=\"color:#cdcd00\">toasty-jazz-171</strong> to <a href=\"https://wandb.ai\" target=\"_blank\">Weights & Biases</a> <a href=\"https://docs.wandb.com/integrations/jupyter.html\" target=\"_blank\">(Documentation)</a>.<br/>\n",
              "                Project page: <a href=\"https://wandb.ai/cs6910krsrd/CS6910%20ASSIGNMENT%204\" target=\"_blank\">https://wandb.ai/cs6910krsrd/CS6910%20ASSIGNMENT%204</a><br/>\n",
              "                Run page: <a href=\"https://wandb.ai/cs6910krsrd/CS6910%20ASSIGNMENT%204/runs/2bmlkp2o\" target=\"_blank\">https://wandb.ai/cs6910krsrd/CS6910%20ASSIGNMENT%204/runs/2bmlkp2o</a><br/>\n",
              "                Run data is saved locally in <code>/content/wandb/run-20210523_040756-2bmlkp2o</code><br/><br/>\n",
              "            "
            ],
            "text/plain": [
              "<IPython.core.display.HTML object>"
            ]
          },
          "metadata": {
            "tags": []
          }
        },
        {
          "output_type": "display_data",
          "data": {
            "image/png": "[encoded data removed]",
            "text/plain": [
              "<Figure size 720x576 with 2 Axes>"
            ]
          },
          "metadata": {
            "tags": [],
            "needs_background": "light"
          }
        },
        {
          "output_type": "display_data",
          "data": {
            "text/html": [
              "<br/>Waiting for W&B process to finish, PID 431<br/>Program ended successfully."
            ],
            "text/plain": [
              "<IPython.core.display.HTML object>"
            ]
          },
          "metadata": {
            "tags": []
          }
        },
        {
          "output_type": "display_data",
          "data": {
            "application/vnd.jupyter.widget-view+json": {
              "model_id": "4afa53d9c61c4bf7ba83938153a4782b",
              "version_minor": 0,
              "version_major": 2
            },
            "text/plain": [
              "VBox(children=(Label(value=' 0.00MB of 0.13MB uploaded (0.00MB deduped)\\r'), FloatProgress(value=0.00434552199…"
            ]
          },
          "metadata": {
            "tags": []
          }
        },
        {
          "output_type": "display_data",
          "data": {
            "text/html": [
              "Find user logs for this run at: <code>/content/wandb/run-20210523_040756-2bmlkp2o/logs/debug.log</code>"
            ],
            "text/plain": [
              "<IPython.core.display.HTML object>"
            ]
          },
          "metadata": {
            "tags": []
          }
        },
        {
          "output_type": "display_data",
          "data": {
            "text/html": [
              "Find internal logs for this run at: <code>/content/wandb/run-20210523_040756-2bmlkp2o/logs/debug-internal.log</code>"
            ],
            "text/plain": [
              "<IPython.core.display.HTML object>"
            ]
          },
          "metadata": {
            "tags": []
          }
        },
        {
          "output_type": "display_data",
          "data": {
            "text/html": [
              "<h3>Run summary:</h3><br/><style>\n",
              "    table.wandb td:nth-child(1) { padding: 0 10px; text-align: right }\n",
              "    </style><table class=\"wandb\">\n",
              "<tr><td>_runtime</td><td>3</td></tr><tr><td>_timestamp</td><td>1621742879</td></tr><tr><td>_step</td><td>0</td></tr></table>"
            ],
            "text/plain": [
              "<IPython.core.display.HTML object>"
            ]
          },
          "metadata": {
            "tags": []
          }
        },
        {
          "output_type": "display_data",
          "data": {
            "text/html": [
              "<h3>Run history:</h3><br/><style>\n",
              "    table.wandb td:nth-child(1) { padding: 0 10px; text-align: right }\n",
              "    </style><table class=\"wandb\">\n",
              "<tr><td>_runtime</td><td>▁</td></tr><tr><td>_timestamp</td><td>▁</td></tr><tr><td>_step</td><td>▁</td></tr></table><br/>"
            ],
            "text/plain": [
              "<IPython.core.display.HTML object>"
            ]
          },
          "metadata": {
            "tags": []
          }
        },
        {
          "output_type": "display_data",
          "data": {
            "text/html": [
              "Synced 4 W&B file(s), 1 media file(s), 0 artifact file(s) and 0 other file(s)"
            ],
            "text/plain": [
              "<IPython.core.display.HTML object>"
            ]
          },
          "metadata": {
            "tags": []
          }
        },
        {
          "output_type": "display_data",
          "data": {
            "text/html": [
              "\n",
              "                    <br/>Synced <strong style=\"color:#cdcd00\">toasty-jazz-171</strong>: <a href=\"https://wandb.ai/cs6910krsrd/CS6910%20ASSIGNMENT%204/runs/2bmlkp2o\" target=\"_blank\">https://wandb.ai/cs6910krsrd/CS6910%20ASSIGNMENT%204/runs/2bmlkp2o</a><br/>\n",
              "                "
            ],
            "text/plain": [
              "<IPython.core.display.HTML object>"
            ]
          },
          "metadata": {
            "tags": []
          }
        }
      ]
    },
    {
      "cell_type": "code",
      "metadata": {
        "id": "ISqEPYrPPA5i"
      },
      "source": [
        "run = wandb.init(project=proj_name,entity='cs6910krsrd',)\n",
        "\n",
        "print(\"Sample Images for each Class :\")\n",
        "class_list=list()\n",
        "\n",
        "for i in range(10):\n",
        "  plt.subplot(2,5,i+1)\n",
        "  for j in range(len(y_train)):\n",
        "    if y_train[j] == i :\n",
        "        wandb.log({\"Sample Images\": [wandb.Image(x_train[j], caption=class_type[y_train[j]])]})\n",
        "        class_list.append(class_type[y_train[j]])\n",
        "        break\n",
        "\n",
        "run.finish()  "
      ],
      "execution_count": null,
      "outputs": []
    },
    {
      "cell_type": "markdown",
      "metadata": {
        "id": "urdAk45ITm30"
      },
      "source": [
        "***Visualise the samples generated from the distribution***"
      ]
    },
    {
      "cell_type": "code",
      "metadata": {
        "id": "2xTpplLYTlMO"
      },
      "source": [
        "  run = wandb.init(project=proj_name,entity='cs6910krsrd',)\n",
        "\n",
        "\n",
        "  rbm_parameters = rbm_param_init()\n",
        "  rbm_epochs = 10\n",
        "\n",
        "  W = rbm_parameters[\"W\"]\n",
        "  h_bias = rbm_parameters[\"h_bias\"]\n",
        "  v_bias = rbm_parameters[\"v_bias\"]\n",
        "\n",
        "  for j in range(rbm_epochs) :\n",
        "\n",
        "      if (j==0) or (j==9) :\n",
        "          plt.figure(figsize = (10,8))\n",
        "          subplot_no = 1\n",
        "          \n",
        "      for i in range(n_train_examples) :\n",
        "          v_sample = X_train[i]\n",
        "          v_init   = X_train[i]\n",
        "\n",
        "          if ((j==0) or (j==9)) and ((i%(701) == 0)) and (subplot_no <= 64):\n",
        "\n",
        "            hidden = np.random.binomial(1,sigmoid(np.dot(W,v_sample)+h_bias))\n",
        "            img_reconstruct = np.random.binomial(1,sigmoid(np.dot(np.transpose(W),hidden)+v_bias))\n",
        "            img = np.reshape(img_reconstruct, (28,28))\n",
        "            plt.subplot(8,8,subplot_no)\n",
        "            plt.imshow(img, cmap = \"gray\")\n",
        "            plt.axis(\"off\")\n",
        "            subplot_no += 1\n",
        "\n",
        "          for t in range(k) :                                                                # Markov Chain - Loop\n",
        "             h_given_v = sigmoid(np.dot(W,v_sample)+h_bias)                                  # Evaluate p(h|v)\n",
        "             h_sample = np.random.binomial(1,h_given_v)                                      # Convert to 0's and 1's assuming binomial distribution p(h|v) \n",
        "             v_given_h = sigmoid(np.dot(np.transpose(W),h_sample)+v_bias)                    # Evaluate p(v|h)\n",
        "             v_sample = np.random.binomial(1,v_given_h)                                      # Convert to 0's and 1's assuming binomial distribution p(v|h)\n",
        "\n",
        "          # Update Rule\n",
        "          W = W + learning_rate*(np.dot(sigmoid(np.dot(W,v_init)+h_bias),np.transpose(v_init)) - np.dot(sigmoid(np.dot(W,v_sample)+h_bias),np.transpose(v_sample)))\n",
        "          v_bias = v_bias + learning_rate*(v_init-v_sample)\n",
        "          h_bias = h_bias + learning_rate*(sigmoid(np.dot(W,v_init)+h_bias) - sigmoid(np.dot(W,v_sample)+h_bias))\n",
        "\n",
        "\n",
        "      if (j==0) or (j==9) :\n",
        "        wandb.log({\"Sample Visualisation\": plt})\n",
        "\n",
        "\n",
        "      plt.show()\n",
        "\n",
        "  rbm_parameters[\"W\"] = W\n",
        "  rbm_parameters[\"h_bias\"] = h_bias\n",
        "  rbm_parameters[\"v_bias\"] = v_bias\n",
        "  print(\"Training Complete\")\n",
        "\n",
        "  run.finish()\n"
      ],
      "execution_count": null,
      "outputs": []
    }
  ]
}